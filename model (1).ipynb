{
 "cells": [
  {
   "cell_type": "code",
   "execution_count": 33,
   "id": "642781e8",
   "metadata": {},
   "outputs": [
    {
     "name": "stdout",
     "output_type": "stream",
     "text": [
      "    predictions  sold\n",
      "0     94.220977     1\n",
      "1    265.758807   499\n",
      "2     72.445281   237\n",
      "3     46.297771   428\n",
      "4     -9.870723     1\n",
      "5    252.259227   551\n",
      "6     -1.709246     1\n",
      "7    334.942178   464\n",
      "8     -8.396738     1\n",
      "9     91.987264     1\n",
      "10    82.565868   130\n",
      "11   260.741857    36\n",
      "12   327.894838     1\n",
      "13    -6.099235     1\n",
      "14   196.828402    42\n",
      "15   101.684736     1\n",
      "16   -19.776426     1\n",
      "17    -6.806402     1\n",
      "18   329.129512     1\n",
      "19    -5.636855     1\n",
      "20    92.720680     1\n",
      "21   106.340541     1\n",
      "22   -12.120789   499\n",
      "23    -4.035156     1\n",
      "24    -7.351445     1\n",
      "25   757.667510     1\n",
      "26    91.299329     1\n",
      "27    84.498501   112\n",
      "28   382.508091    58\n",
      "29    45.854777   897\n",
      "30    -9.531046     1\n",
      "31   185.572109    76\n",
      "32   -11.375482     1\n",
      "33    -9.844727     1\n",
      "34  -154.451130     1\n",
      "35   -23.882031     1\n",
      "36    94.396355     1\n",
      "37  -146.349085     1\n",
      "38    -9.943341     1\n",
      "39    -9.940901     1\n",
      "40   -38.899189     1\n",
      "41    -6.502008     1\n",
      "42  -188.377304     1\n",
      "43    88.896345     1\n",
      "44   276.071240     1\n",
      "45  -193.974148     1\n",
      "46   104.914569     1\n",
      "47    92.660633     1\n",
      "145.5788746978326\n"
     ]
    }
   ],
   "source": [
    "import pandas as pd\n",
    "from sklearn import linear_model, metrics\n",
    "from sklearn.model_selection import KFold\n",
    "import numpy as np\n",
    "\n",
    "df = pd.read_csv('cleaned_12-9-2021.csv')\n",
    "\n",
    "independent_values = df.drop(['title', 'sold'], axis=1)\n",
    "dependent_value = df['sold']\n",
    "regression = linear_model.LinearRegression()\n",
    "kf = KFold(n_splits=len(df))\n",
    "predictions = pd.DataFrame({}, columns=['predictions'])\n",
    "\n",
    "for train, test in kf.split(independent_values):\n",
    "    regression.fit(independent_values.iloc[train], dependent_value.iloc[train])\n",
    "    predictions.loc[test[0]] = regression.predict(independent_values.iloc[test])\n",
    "\n",
    "print(predictions.join(dependent_value))\n",
    "print(metrics.mean_absolute_error(dependent_value, predictions))"
   ]
  },
  {
   "cell_type": "code",
   "execution_count": null,
   "id": "10c2c529",
   "metadata": {},
   "outputs": [],
   "source": []
  }
 ],
 "metadata": {
  "kernelspec": {
   "display_name": "comp542",
   "language": "python",
   "name": "comp542"
  },
  "language_info": {
   "codemirror_mode": {
    "name": "ipython",
    "version": 3
   },
   "file_extension": ".py",
   "mimetype": "text/x-python",
   "name": "python",
   "nbconvert_exporter": "python",
   "pygments_lexer": "ipython3",
   "version": "3.9.9"
  }
 },
 "nbformat": 4,
 "nbformat_minor": 5
}
