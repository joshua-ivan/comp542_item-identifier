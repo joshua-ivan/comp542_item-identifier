{
 "cells": [
  {
   "cell_type": "code",
   "execution_count": 50,
   "id": "642781e8",
   "metadata": {},
   "outputs": [
    {
     "name": "stdout",
     "output_type": "stream",
     "text": [
      "     predictions  total sold\n",
      "0      77.341497           1\n",
      "1     549.569083         499\n",
      "2     112.509315         237\n",
      "3     439.235944         428\n",
      "4     -34.849564           1\n",
      "..           ...         ...\n",
      "230    28.046478           1\n",
      "231   109.953732           1\n",
      "232    34.552512         149\n",
      "233   -71.059235           1\n",
      "234     3.120465           1\n",
      "\n",
      "[235 rows x 2 columns]\n",
      "138.51039260945439\n"
     ]
    }
   ],
   "source": [
    "import pandas as pd\n",
    "from sklearn import linear_model, metrics\n",
    "from sklearn.model_selection import KFold\n",
    "import numpy as np\n",
    "\n",
    "df = pd.read_csv('cleaned_all_tags_12-10-2021.csv')\n",
    "\n",
    "independent_values = df.drop(['total sold'], axis=1)\n",
    "dependent_value = df['total sold']\n",
    "regression = linear_model.LinearRegression()\n",
    "kf = KFold(n_splits=len(df))\n",
    "predictions = pd.DataFrame({}, columns=['predictions'])\n",
    "\n",
    "for train, test in kf.split(independent_values):\n",
    "    regression.fit(independent_values.iloc[train], dependent_value.iloc[train])\n",
    "    predictions.loc[test[0]] = regression.predict(independent_values.iloc[test])\n",
    "\n",
    "print(predictions.join(dependent_value))\n",
    "predictions.join(dependent_value).to_csv('predictions_linear_all_tags_12-10-2021.csv')\n",
    "print(metrics.mean_absolute_error(dependent_value, predictions))"
   ]
  },
  {
   "cell_type": "code",
   "execution_count": null,
   "id": "10c2c529",
   "metadata": {},
   "outputs": [],
   "source": []
  }
 ],
 "metadata": {
  "kernelspec": {
   "display_name": "comp542",
   "language": "python",
   "name": "comp542"
  },
  "language_info": {
   "codemirror_mode": {
    "name": "ipython",
    "version": 3
   },
   "file_extension": ".py",
   "mimetype": "text/x-python",
   "name": "python",
   "nbconvert_exporter": "python",
   "pygments_lexer": "ipython3",
   "version": "3.9.9"
  }
 },
 "nbformat": 4,
 "nbformat_minor": 5
}
