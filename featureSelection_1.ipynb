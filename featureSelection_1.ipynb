{
 "cells": [
  {
   "cell_type": "code",
   "execution_count": 5,
   "id": "81576213-50ac-4fc6-bd8c-378acb22d245",
   "metadata": {},
   "outputs": [
    {
     "data": {
      "text/html": [
       "<div>\n",
       "<style scoped>\n",
       "    .dataframe tbody tr th:only-of-type {\n",
       "        vertical-align: middle;\n",
       "    }\n",
       "\n",
       "    .dataframe tbody tr th {\n",
       "        vertical-align: top;\n",
       "    }\n",
       "\n",
       "    .dataframe thead th {\n",
       "        text-align: right;\n",
       "    }\n",
       "</style>\n",
       "<table border=\"1\" class=\"dataframe\">\n",
       "  <thead>\n",
       "    <tr style=\"text-align: right;\">\n",
       "      <th></th>\n",
       "      <th>title</th>\n",
       "      <th>price</th>\n",
       "      <th>currency</th>\n",
       "      <th>sold</th>\n",
       "      <th>condition</th>\n",
       "      <th>color</th>\n",
       "      <th>theme</th>\n",
       "      <th>features</th>\n",
       "      <th>url</th>\n",
       "      <th>MEDV</th>\n",
       "    </tr>\n",
       "  </thead>\n",
       "  <tbody>\n",
       "    <tr>\n",
       "      <th>0</th>\n",
       "      <td>Extreme Muddin If You Can Read This Roll Me Ov...</td>\n",
       "      <td>1800</td>\n",
       "      <td>1</td>\n",
       "      <td>1</td>\n",
       "      <td>1</td>\n",
       "      <td>0</td>\n",
       "      <td>Muddin Shirts</td>\n",
       "      <td>NaN</td>\n",
       "      <td>https://www.ebay.com/itm/323937772318?_trkparm...</td>\n",
       "      <td>1</td>\n",
       "    </tr>\n",
       "    <tr>\n",
       "      <th>1</th>\n",
       "      <td>New Men's Peanuts Snoopy Retro Vintage Long Sl...</td>\n",
       "      <td>1999</td>\n",
       "      <td>1</td>\n",
       "      <td>499</td>\n",
       "      <td>1</td>\n",
       "      <td>1</td>\n",
       "      <td>Peanuts, Snoopy, Cartoon, 80s, 90s</td>\n",
       "      <td>NaN</td>\n",
       "      <td>https://www.ebay.com/itm/333727612179?_trkparm...</td>\n",
       "      <td>499</td>\n",
       "    </tr>\n",
       "    <tr>\n",
       "      <th>2</th>\n",
       "      <td>New Mens Aaliyah Vintage Graphic R&amp;B Singer Po...</td>\n",
       "      <td>1699</td>\n",
       "      <td>1</td>\n",
       "      <td>237</td>\n",
       "      <td>1</td>\n",
       "      <td>1</td>\n",
       "      <td>Aaliyah, Singer, Actress, Model, Album, R&amp;B, H...</td>\n",
       "      <td>NaN</td>\n",
       "      <td>https://www.ebay.com/itm/334004912263?_trkparm...</td>\n",
       "      <td>237</td>\n",
       "    </tr>\n",
       "    <tr>\n",
       "      <th>3</th>\n",
       "      <td>Men's The Doors 1968 Hollywood Bowl Tie Dye Re...</td>\n",
       "      <td>1699</td>\n",
       "      <td>1</td>\n",
       "      <td>428</td>\n",
       "      <td>1</td>\n",
       "      <td>2</td>\n",
       "      <td>The Doors, Rock N Roll, Band, Concert</td>\n",
       "      <td>NaN</td>\n",
       "      <td>https://www.ebay.com/itm/233806535371?_trkparm...</td>\n",
       "      <td>428</td>\n",
       "    </tr>\n",
       "    <tr>\n",
       "      <th>4</th>\n",
       "      <td>Vintage Kanye West Murakami T-Shirt, Size XL</td>\n",
       "      <td>22000</td>\n",
       "      <td>1</td>\n",
       "      <td>1</td>\n",
       "      <td>0</td>\n",
       "      <td>1</td>\n",
       "      <td>NaN</td>\n",
       "      <td>NaN</td>\n",
       "      <td>https://www.ebay.com/itm/125002074216?hash=ite...</td>\n",
       "      <td>1</td>\n",
       "    </tr>\n",
       "  </tbody>\n",
       "</table>\n",
       "</div>"
      ],
      "text/plain": [
       "                                               title  price  currency  sold  \\\n",
       "0  Extreme Muddin If You Can Read This Roll Me Ov...   1800         1     1   \n",
       "1  New Men's Peanuts Snoopy Retro Vintage Long Sl...   1999         1   499   \n",
       "2  New Mens Aaliyah Vintage Graphic R&B Singer Po...   1699         1   237   \n",
       "3  Men's The Doors 1968 Hollywood Bowl Tie Dye Re...   1699         1   428   \n",
       "4       Vintage Kanye West Murakami T-Shirt, Size XL  22000         1     1   \n",
       "\n",
       "   condition  color                                              theme  \\\n",
       "0          1      0                                      Muddin Shirts   \n",
       "1          1      1                 Peanuts, Snoopy, Cartoon, 80s, 90s   \n",
       "2          1      1  Aaliyah, Singer, Actress, Model, Album, R&B, H...   \n",
       "3          1      2              The Doors, Rock N Roll, Band, Concert   \n",
       "4          0      1                                                NaN   \n",
       "\n",
       "  features                                                url  MEDV  \n",
       "0      NaN  https://www.ebay.com/itm/323937772318?_trkparm...     1  \n",
       "1      NaN  https://www.ebay.com/itm/333727612179?_trkparm...   499  \n",
       "2      NaN  https://www.ebay.com/itm/334004912263?_trkparm...   237  \n",
       "3      NaN  https://www.ebay.com/itm/233806535371?_trkparm...   428  \n",
       "4      NaN  https://www.ebay.com/itm/125002074216?hash=ite...     1  "
      ]
     },
     "execution_count": 5,
     "metadata": {},
     "output_type": "execute_result"
    }
   ],
   "source": [
    "#importing libraries\n",
    "from sklearn.datasets import load_boston\n",
    "import pandas as pd\n",
    "import numpy as np\n",
    "import matplotlib\n",
    "import matplotlib.pyplot as plt\n",
    "import seaborn as sns\n",
    "import statsmodels.api as sm\n",
    "%matplotlib inline\n",
    "from sklearn.model_selection import train_test_split\n",
    "from sklearn.linear_model import LinearRegression\n",
    "from sklearn.feature_selection import RFE\n",
    "from sklearn.linear_model import RidgeCV, LassoCV, Ridge, Lasso\n",
    "#Loading the dataset\n",
    "x = pd.read_csv(\"cleaned.csv\")\n",
    "df = pd.DataFrame(x)\n",
    "df[\"MEDV\"] = x.sold\n",
    "X = df.drop(\"MEDV\",1)   #Feature Matrix\n",
    "y = df[\"MEDV\"]          #Target Variable\n",
    "df.head()"
   ]
  },
  {
   "cell_type": "code",
   "execution_count": 6,
   "id": "9242bcdc-2de9-44c8-974b-67875a37a6d5",
   "metadata": {},
   "outputs": [
    {
     "data": {
      "image/png": "[encoded data removed]",
      "text/plain": [
       "<Figure size 864x720 with 2 Axes>"
      ]
     },
     "metadata": {
      "needs_background": "light"
     },
     "output_type": "display_data"
    }
   ],
   "source": [
    "#Using Pearson Correlation\n",
    "plt.figure(figsize=(12,10))\n",
    "cor = df.corr()\n",
    "sns.heatmap(cor, annot=True, cmap=plt.cm.Reds)\n",
    "plt.show()"
   ]
  },
  {
   "cell_type": "code",
   "execution_count": 7,
   "id": "5b245e47-72a8-4cac-bc2a-d1ca88cab2b6",
   "metadata": {},
   "outputs": [
    {
     "data": {
      "text/plain": [
       "sold    1.0\n",
       "MEDV    1.0\n",
       "Name: MEDV, dtype: float64"
      ]
     },
     "execution_count": 7,
     "metadata": {},
     "output_type": "execute_result"
    }
   ],
   "source": [
    "#Correlation with output variable\n",
    "cor_target = abs(cor[\"MEDV\"])\n",
    "#Selecting highly correlated features\n",
    "relevant_features = cor_target[cor_target>0.5]\n",
    "relevant_features"
   ]
  },
  {
   "cell_type": "code",
   "execution_count": 4,
   "id": "27fac5b3-48a7-4774-88b1-51063930e888",
   "metadata": {},
   "outputs": [
    {
     "name": "stdout",
     "output_type": "stream",
     "text": [
      "           sold     price\n",
      "sold   1.000000 -0.107723\n",
      "price -0.107723  1.000000\n",
      "          color      sold\n",
      "color  1.000000 -0.161266\n",
      "sold  -0.161266  1.000000\n"
     ]
    }
   ],
   "source": [
    "print(df[[\"sold\",\"price\"]].corr())\n",
    "print(df[[\"color\",\"sold\"]].corr())"
   ]
  }
 ],
 "metadata": {
  "kernelspec": {
   "display_name": "Python 3",
   "language": "python",
   "name": "python3"
  },
  "language_info": {
   "codemirror_mode": {
    "name": "ipython",
    "version": 3
   },
   "file_extension": ".py",
   "mimetype": "text/x-python",
   "name": "python",
   "nbconvert_exporter": "python",
   "pygments_lexer": "ipython3",
   "version": "3.8.8"
  }
 },
 "nbformat": 4,
 "nbformat_minor": 5
}
