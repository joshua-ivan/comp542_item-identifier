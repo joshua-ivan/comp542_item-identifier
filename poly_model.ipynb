{
 "cells": [
  {
   "cell_type": "code",
   "execution_count": null,
   "id": "642781e8",
   "metadata": {},
   "outputs": [],
   "source": [
    "import pandas as pd\n",
    "from sklearn.preprocessing import PolynomialFeatures\n",
    "from sklearn import linear_model, metrics\n",
    "from sklearn.pipeline import make_pipeline\n",
    "from sklearn.model_selection import KFold\n",
    "import numpy as np\n",
    "\n",
    "df = pd.read_csv('cleaned_all_tags_12-10-2021.csv')\n",
    "# df['total sold'] = df['total sold'].astype(int)\n",
    "# df = df[df['total sold'] > 1]\n",
    "# df = df.reset_index(drop=True)\n",
    "\n",
    "poly_feat = PolynomialFeatures(degree=3)\n",
    "lin_reg = linear_model.LinearRegression(fit_intercept=False)\n",
    "model = make_pipeline(poly_feat, lin_reg)\n",
    "independent_values = df.drop(['total sold'], axis=1)\n",
    "dependent_value = df['total sold']\n",
    "kf = KFold(n_splits=len(df))\n",
    "predictions = pd.DataFrame({}, columns=['predictions'])\n",
    "\n",
    "for train, test in kf.split(independent_values):\n",
    "    model.fit(independent_values.iloc[train], dependent_value.iloc[train])\n",
    "    predictions.loc[test[0]] = model.predict(independent_values.iloc[test])\n",
    "\n",
    "print(predictions.join(dependent_value))\n",
    "predictions.join(dependent_value).to_csv('predictions_poly_all_tags_12-14-2021.csv')\n",
    "print(metrics.mean_absolute_error(dependent_value, predictions))"
   ]
  },
  {
   "cell_type": "code",
   "execution_count": null,
   "id": "10c2c529",
   "metadata": {},
   "outputs": [],
   "source": []
  }
 ],
 "metadata": {
  "kernelspec": {
   "display_name": "comp542",
   "language": "python",
   "name": "comp542"
  },
  "language_info": {
   "codemirror_mode": {
    "name": "ipython",
    "version": 3
   },
   "file_extension": ".py",
   "mimetype": "text/x-python",
   "name": "python",
   "nbconvert_exporter": "python",
   "pygments_lexer": "ipython3",
   "version": "3.9.9"
  }
 },
 "nbformat": 4,
 "nbformat_minor": 5
}
